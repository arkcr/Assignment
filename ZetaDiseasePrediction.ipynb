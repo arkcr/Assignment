{
 "cells": [
  {
   "cell_type": "code",
   "execution_count": 1,
   "id": "billion-telling",
   "metadata": {},
   "outputs": [],
   "source": [
    "#Importing required libraries\n",
    "import pandas as pd\n",
    "import os\n",
    "import matplotlib.pyplot as plt \n",
    "from sklearn.linear_model import LogisticRegression\n",
    "from sklearn.model_selection import train_test_split\n",
    "%matplotlib inline"
   ]
  },
  {
   "cell_type": "code",
   "execution_count": 2,
   "id": "square-implement",
   "metadata": {},
   "outputs": [],
   "source": [
    "#Initialization\n",
    "os.chdir(r\"C:\\Users\\amolr\\OneDrive\\Projects\\Carrier\")\n",
    "InputFile = \"2021-01-21_zeta-disease_training-data_dsi-take-home-challenge.csv\"\n",
    "PredFile = \"2021-01-21_zeta-disease_prediction-data_dsi-take-home-challenge.csv\""
   ]
  },
  {
   "cell_type": "code",
   "execution_count": 3,
   "id": "grateful-genome",
   "metadata": {
    "scrolled": true
   },
   "outputs": [
    {
     "data": {
      "text/html": [
       "<div>\n",
       "<style scoped>\n",
       "    .dataframe tbody tr th:only-of-type {\n",
       "        vertical-align: middle;\n",
       "    }\n",
       "\n",
       "    .dataframe tbody tr th {\n",
       "        vertical-align: top;\n",
       "    }\n",
       "\n",
       "    .dataframe thead th {\n",
       "        text-align: right;\n",
       "    }\n",
       "</style>\n",
       "<table border=\"1\" class=\"dataframe\">\n",
       "  <thead>\n",
       "    <tr style=\"text-align: right;\">\n",
       "      <th></th>\n",
       "      <th>age</th>\n",
       "      <th>weight</th>\n",
       "      <th>bmi</th>\n",
       "      <th>blood_pressure</th>\n",
       "      <th>insulin_test</th>\n",
       "      <th>liver_stress_test</th>\n",
       "      <th>cardio_stress_test</th>\n",
       "      <th>years_smoking</th>\n",
       "      <th>zeta_disease</th>\n",
       "    </tr>\n",
       "  </thead>\n",
       "  <tbody>\n",
       "    <tr>\n",
       "      <th>0</th>\n",
       "      <td>54</td>\n",
       "      <td>189</td>\n",
       "      <td>27.1</td>\n",
       "      <td>80</td>\n",
       "      <td>0</td>\n",
       "      <td>1.5038</td>\n",
       "      <td>0</td>\n",
       "      <td>10</td>\n",
       "      <td>0</td>\n",
       "    </tr>\n",
       "    <tr>\n",
       "      <th>1</th>\n",
       "      <td>23</td>\n",
       "      <td>150</td>\n",
       "      <td>38.5</td>\n",
       "      <td>68</td>\n",
       "      <td>71</td>\n",
       "      <td>0.3868</td>\n",
       "      <td>55</td>\n",
       "      <td>2</td>\n",
       "      <td>0</td>\n",
       "    </tr>\n",
       "    <tr>\n",
       "      <th>2</th>\n",
       "      <td>47</td>\n",
       "      <td>186</td>\n",
       "      <td>29.9</td>\n",
       "      <td>90</td>\n",
       "      <td>0</td>\n",
       "      <td>0.2728</td>\n",
       "      <td>0</td>\n",
       "      <td>7</td>\n",
       "      <td>0</td>\n",
       "    </tr>\n",
       "    <tr>\n",
       "      <th>3</th>\n",
       "      <td>18</td>\n",
       "      <td>150</td>\n",
       "      <td>30.8</td>\n",
       "      <td>70</td>\n",
       "      <td>1033</td>\n",
       "      <td>0.6598</td>\n",
       "      <td>56</td>\n",
       "      <td>0</td>\n",
       "      <td>0</td>\n",
       "    </tr>\n",
       "    <tr>\n",
       "      <th>4</th>\n",
       "      <td>24</td>\n",
       "      <td>160</td>\n",
       "      <td>32.4</td>\n",
       "      <td>74</td>\n",
       "      <td>125</td>\n",
       "      <td>0.7608</td>\n",
       "      <td>59</td>\n",
       "      <td>2</td>\n",
       "      <td>0</td>\n",
       "    </tr>\n",
       "  </tbody>\n",
       "</table>\n",
       "</div>"
      ],
      "text/plain": [
       "   age  weight   bmi  blood_pressure  insulin_test  liver_stress_test  \\\n",
       "0   54     189  27.1              80             0             1.5038   \n",
       "1   23     150  38.5              68            71             0.3868   \n",
       "2   47     186  29.9              90             0             0.2728   \n",
       "3   18     150  30.8              70          1033             0.6598   \n",
       "4   24     160  32.4              74           125             0.7608   \n",
       "\n",
       "   cardio_stress_test  years_smoking  zeta_disease  \n",
       "0                   0             10             0  \n",
       "1                  55              2             0  \n",
       "2                   0              7             0  \n",
       "3                  56              0             0  \n",
       "4                  59              2             0  "
      ]
     },
     "execution_count": 3,
     "metadata": {},
     "output_type": "execute_result"
    }
   ],
   "source": [
    "df = pd.read_csv(InputFile)\n",
    "\n",
    "df.head(5)\n",
    "#print(df.columns)\n",
    "#print(df.size)"
   ]
  },
  {
   "cell_type": "code",
   "execution_count": 4,
   "id": "plain-wonder",
   "metadata": {},
   "outputs": [
    {
     "data": {
      "text/plain": [
       "Index(['age', 'weight', 'bmi', 'blood_pressure', 'insulin_test',\n",
       "       'liver_stress_test', 'cardio_stress_test', 'years_smoking',\n",
       "       'zeta_disease'],\n",
       "      dtype='object')"
      ]
     },
     "execution_count": 4,
     "metadata": {},
     "output_type": "execute_result"
    }
   ],
   "source": [
    "df.columns"
   ]
  },
  {
   "cell_type": "code",
   "execution_count": 5,
   "id": "packed-offer",
   "metadata": {},
   "outputs": [
    {
     "data": {
      "text/plain": [
       "<AxesSubplot:>"
      ]
     },
     "execution_count": 5,
     "metadata": {},
     "output_type": "execute_result"
    },
    {
     "data": {
      "image/png": "[encoded data removed]",
      "text/plain": [
       "<Figure size 432x288 with 1 Axes>"
      ]
     },
     "metadata": {
      "needs_background": "light"
     },
     "output_type": "display_data"
    }
   ],
   "source": [
    "df['zeta_disease'].value_counts().plot(kind=\"bar\")"
   ]
  },
  {
   "cell_type": "code",
   "execution_count": 6,
   "id": "flush-morris",
   "metadata": {},
   "outputs": [],
   "source": [
    "X = df[['age', 'weight', 'bmi', 'blood_pressure', 'insulin_test', 'liver_stress_test', 'cardio_stress_test', 'years_smoking']]\n",
    "y = df['zeta_disease']\n",
    "\n",
    "X_train, X_test, y_train, y_test = train_test_split(X, y, test_size=0.2, random_state=0)"
   ]
  },
  {
   "cell_type": "code",
   "execution_count": 7,
   "id": "enabling-anchor",
   "metadata": {},
   "outputs": [
    {
     "data": {
      "text/plain": [
       "LogisticRegression(max_iter=200)"
      ]
     },
     "execution_count": 7,
     "metadata": {},
     "output_type": "execute_result"
    }
   ],
   "source": [
    "lr = LogisticRegression(max_iter=200)\n",
    "lr.fit(X_train, y_train)"
   ]
  },
  {
   "cell_type": "code",
   "execution_count": 8,
   "id": "nutritional-probability",
   "metadata": {},
   "outputs": [
    {
     "name": "stdout",
     "output_type": "stream",
     "text": [
      "Model Accuracy: 0.825\n"
     ]
    }
   ],
   "source": [
    "y_pred = lr.predict(X_test)\n",
    "accuracy = lr.score(X_test,y_test)\n",
    "print(\"Model Accuracy:\" , accuracy)"
   ]
  },
  {
   "cell_type": "code",
   "execution_count": 9,
   "id": "exciting-anthony",
   "metadata": {},
   "outputs": [
    {
     "name": "stdout",
     "output_type": "stream",
     "text": [
      "[[110   6]\n",
      " [ 22  22]]\n"
     ]
    }
   ],
   "source": [
    "from sklearn.metrics import confusion_matrix\n",
    "cm = confusion_matrix(y_test, y_pred)\n",
    "print(cm)"
   ]
  },
  {
   "cell_type": "code",
   "execution_count": 10,
   "id": "danish-folder",
   "metadata": {},
   "outputs": [
    {
     "data": {
      "text/plain": [
       "Index(['age', 'weight', 'bmi', 'blood_pressure', 'insulin_test',\n",
       "       'liver_stress_test', 'cardio_stress_test', 'years_smoking',\n",
       "       'zeta_disease'],\n",
       "      dtype='object')"
      ]
     },
     "execution_count": 10,
     "metadata": {},
     "output_type": "execute_result"
    }
   ],
   "source": [
    "#Load Test Data -- PredFile\n",
    "pdf = pd.read_csv(PredFile)\n",
    "pdf.columns"
   ]
  },
  {
   "cell_type": "code",
   "execution_count": 11,
   "id": "caring-somerset",
   "metadata": {},
   "outputs": [],
   "source": [
    "X_validate = pdf[['age', 'weight', 'bmi', 'blood_pressure', 'insulin_test', 'liver_stress_test', 'cardio_stress_test', 'years_smoking']]\n",
    "y_pred = pd.DataFrame(lr.predict(X_validate),columns=['ZetaDisease'])\n",
    "Pred_Output = X_validate\n",
    "Pred_Output['ZetaDiseaseIndicator'] = y_pred['ZetaDisease']\n",
    "# Output final predicted data to .csv file\n",
    "Pred_Output.to_csv('LogisticRegress_Output.csv',index=False)\n",
    "\n"
   ]
  },
  {
   "cell_type": "markdown",
   "id": "cooperative-first",
   "metadata": {},
   "source": [
    "## Normalizing data -- Logistic Regression"
   ]
  },
  {
   "cell_type": "code",
   "execution_count": 12,
   "id": "liable-thought",
   "metadata": {},
   "outputs": [],
   "source": [
    "from sklearn import preprocessing\n",
    "X = df[['age', 'weight', 'bmi', 'blood_pressure', 'insulin_test', 'liver_stress_test', 'cardio_stress_test', 'years_smoking']]\n",
    "y = df['zeta_disease']\n",
    "\n",
    "\n",
    "X_norm = pd.DataFrame(preprocessing.normalize(X))\n",
    "\n",
    "\n",
    "X_train, X_test, y_train, y_test = train_test_split(X_norm, y, test_size=0.2, random_state=0)"
   ]
  },
  {
   "cell_type": "code",
   "execution_count": 13,
   "id": "quantitative-midnight",
   "metadata": {},
   "outputs": [
    {
     "data": {
      "text/html": [
       "<div>\n",
       "<style scoped>\n",
       "    .dataframe tbody tr th:only-of-type {\n",
       "        vertical-align: middle;\n",
       "    }\n",
       "\n",
       "    .dataframe tbody tr th {\n",
       "        vertical-align: top;\n",
       "    }\n",
       "\n",
       "    .dataframe thead th {\n",
       "        text-align: right;\n",
       "    }\n",
       "</style>\n",
       "<table border=\"1\" class=\"dataframe\">\n",
       "  <thead>\n",
       "    <tr style=\"text-align: right;\">\n",
       "      <th></th>\n",
       "      <th>0</th>\n",
       "      <th>1</th>\n",
       "      <th>2</th>\n",
       "      <th>3</th>\n",
       "      <th>4</th>\n",
       "      <th>5</th>\n",
       "      <th>6</th>\n",
       "      <th>7</th>\n",
       "    </tr>\n",
       "  </thead>\n",
       "  <tbody>\n",
       "    <tr>\n",
       "      <th>172</th>\n",
       "      <td>0.163905</td>\n",
       "      <td>0.785999</td>\n",
       "      <td>0.094990</td>\n",
       "      <td>0.253308</td>\n",
       "      <td>0.491715</td>\n",
       "      <td>0.001448</td>\n",
       "      <td>0.197431</td>\n",
       "      <td>0.037251</td>\n",
       "    </tr>\n",
       "    <tr>\n",
       "      <th>76</th>\n",
       "      <td>0.116008</td>\n",
       "      <td>0.725053</td>\n",
       "      <td>0.140039</td>\n",
       "      <td>0.248590</td>\n",
       "      <td>0.580042</td>\n",
       "      <td>0.000625</td>\n",
       "      <td>0.207158</td>\n",
       "      <td>0.008286</td>\n",
       "    </tr>\n",
       "    <tr>\n",
       "      <th>64</th>\n",
       "      <td>0.216604</td>\n",
       "      <td>0.830317</td>\n",
       "      <td>0.169158</td>\n",
       "      <td>0.484781</td>\n",
       "      <td>0.000000</td>\n",
       "      <td>0.001691</td>\n",
       "      <td>0.000000</td>\n",
       "      <td>0.005157</td>\n",
       "    </tr>\n",
       "    <tr>\n",
       "      <th>765</th>\n",
       "      <td>0.178554</td>\n",
       "      <td>0.743976</td>\n",
       "      <td>0.122862</td>\n",
       "      <td>0.297590</td>\n",
       "      <td>0.518658</td>\n",
       "      <td>0.005130</td>\n",
       "      <td>0.204062</td>\n",
       "      <td>0.017005</td>\n",
       "    </tr>\n",
       "    <tr>\n",
       "      <th>52</th>\n",
       "      <td>0.099886</td>\n",
       "      <td>0.846402</td>\n",
       "      <td>0.155086</td>\n",
       "      <td>0.304915</td>\n",
       "      <td>0.231315</td>\n",
       "      <td>0.002591</td>\n",
       "      <td>0.320686</td>\n",
       "      <td>0.015771</td>\n",
       "    </tr>\n",
       "    <tr>\n",
       "      <th>...</th>\n",
       "      <td>...</td>\n",
       "      <td>...</td>\n",
       "      <td>...</td>\n",
       "      <td>...</td>\n",
       "      <td>...</td>\n",
       "      <td>...</td>\n",
       "      <td>...</td>\n",
       "      <td>...</td>\n",
       "    </tr>\n",
       "    <tr>\n",
       "      <th>763</th>\n",
       "      <td>0.292376</td>\n",
       "      <td>0.721507</td>\n",
       "      <td>0.184857</td>\n",
       "      <td>0.509299</td>\n",
       "      <td>0.000000</td>\n",
       "      <td>0.001734</td>\n",
       "      <td>0.315954</td>\n",
       "      <td>0.023579</td>\n",
       "    </tr>\n",
       "    <tr>\n",
       "      <th>192</th>\n",
       "      <td>0.219840</td>\n",
       "      <td>0.858911</td>\n",
       "      <td>0.118100</td>\n",
       "      <td>0.368105</td>\n",
       "      <td>0.000000</td>\n",
       "      <td>0.007867</td>\n",
       "      <td>0.250516</td>\n",
       "      <td>0.040901</td>\n",
       "    </tr>\n",
       "    <tr>\n",
       "      <th>629</th>\n",
       "      <td>0.249359</td>\n",
       "      <td>0.777073</td>\n",
       "      <td>0.172232</td>\n",
       "      <td>0.417532</td>\n",
       "      <td>0.000000</td>\n",
       "      <td>0.002086</td>\n",
       "      <td>0.353742</td>\n",
       "      <td>0.069589</td>\n",
       "    </tr>\n",
       "    <tr>\n",
       "      <th>559</th>\n",
       "      <td>0.237994</td>\n",
       "      <td>0.729849</td>\n",
       "      <td>0.186693</td>\n",
       "      <td>0.391369</td>\n",
       "      <td>0.285593</td>\n",
       "      <td>0.002331</td>\n",
       "      <td>0.370213</td>\n",
       "      <td>0.063465</td>\n",
       "    </tr>\n",
       "    <tr>\n",
       "      <th>684</th>\n",
       "      <td>0.074604</td>\n",
       "      <td>0.795775</td>\n",
       "      <td>0.158089</td>\n",
       "      <td>0.312626</td>\n",
       "      <td>0.426308</td>\n",
       "      <td>0.002518</td>\n",
       "      <td>0.238022</td>\n",
       "      <td>0.007105</td>\n",
       "    </tr>\n",
       "  </tbody>\n",
       "</table>\n",
       "<p>640 rows × 8 columns</p>\n",
       "</div>"
      ],
      "text/plain": [
       "            0         1         2         3         4         5         6  \\\n",
       "172  0.163905  0.785999  0.094990  0.253308  0.491715  0.001448  0.197431   \n",
       "76   0.116008  0.725053  0.140039  0.248590  0.580042  0.000625  0.207158   \n",
       "64   0.216604  0.830317  0.169158  0.484781  0.000000  0.001691  0.000000   \n",
       "765  0.178554  0.743976  0.122862  0.297590  0.518658  0.005130  0.204062   \n",
       "52   0.099886  0.846402  0.155086  0.304915  0.231315  0.002591  0.320686   \n",
       "..        ...       ...       ...       ...       ...       ...       ...   \n",
       "763  0.292376  0.721507  0.184857  0.509299  0.000000  0.001734  0.315954   \n",
       "192  0.219840  0.858911  0.118100  0.368105  0.000000  0.007867  0.250516   \n",
       "629  0.249359  0.777073  0.172232  0.417532  0.000000  0.002086  0.353742   \n",
       "559  0.237994  0.729849  0.186693  0.391369  0.285593  0.002331  0.370213   \n",
       "684  0.074604  0.795775  0.158089  0.312626  0.426308  0.002518  0.238022   \n",
       "\n",
       "            7  \n",
       "172  0.037251  \n",
       "76   0.008286  \n",
       "64   0.005157  \n",
       "765  0.017005  \n",
       "52   0.015771  \n",
       "..        ...  \n",
       "763  0.023579  \n",
       "192  0.040901  \n",
       "629  0.069589  \n",
       "559  0.063465  \n",
       "684  0.007105  \n",
       "\n",
       "[640 rows x 8 columns]"
      ]
     },
     "execution_count": 13,
     "metadata": {},
     "output_type": "execute_result"
    }
   ],
   "source": [
    "X_train"
   ]
  },
  {
   "cell_type": "code",
   "execution_count": 14,
   "id": "legislative-schedule",
   "metadata": {},
   "outputs": [
    {
     "data": {
      "text/plain": [
       "LogisticRegression(max_iter=200)"
      ]
     },
     "execution_count": 14,
     "metadata": {},
     "output_type": "execute_result"
    }
   ],
   "source": [
    "lr_norm = LogisticRegression(max_iter=200)\n",
    "lr_norm.fit(X_train, y_train)"
   ]
  },
  {
   "cell_type": "code",
   "execution_count": 15,
   "id": "logical-leather",
   "metadata": {},
   "outputs": [
    {
     "name": "stdout",
     "output_type": "stream",
     "text": [
      "Model Accuracy: 0.7\n"
     ]
    }
   ],
   "source": [
    "y_pred = lr_norm.predict(X_test)\n",
    "accuracy = lr_norm.score(X_test,y_test)\n",
    "print(\"Model Accuracy:\" , accuracy)"
   ]
  },
  {
   "cell_type": "markdown",
   "id": "specified-vector",
   "metadata": {},
   "source": [
    "## Random Forest"
   ]
  },
  {
   "cell_type": "code",
   "execution_count": 16,
   "id": "bigger-genealogy",
   "metadata": {},
   "outputs": [],
   "source": [
    "from sklearn.ensemble import RandomForestClassifier\n",
    "from sklearn.model_selection import train_test_split\n",
    "from sklearn import metrics"
   ]
  },
  {
   "cell_type": "code",
   "execution_count": 17,
   "id": "conscious-hours",
   "metadata": {},
   "outputs": [],
   "source": [
    "X = df[['age', 'weight', 'bmi', 'blood_pressure', 'insulin_test', 'liver_stress_test', 'cardio_stress_test', 'years_smoking']]\n",
    "y = df['zeta_disease']\n",
    "\n",
    "X_train, X_test, y_train, y_test = train_test_split(X, y, test_size=0.2, random_state=0)"
   ]
  },
  {
   "cell_type": "code",
   "execution_count": 20,
   "id": "junior-conversion",
   "metadata": {},
   "outputs": [],
   "source": [
    "rfc = RandomForestClassifier(n_estimators=500)\n",
    "rfc.fit(X_train,y_train)\n",
    "\n",
    "y_pred=rfc.predict(X_test)"
   ]
  },
  {
   "cell_type": "code",
   "execution_count": 21,
   "id": "conscious-transaction",
   "metadata": {},
   "outputs": [
    {
     "name": "stdout",
     "output_type": "stream",
     "text": [
      "Model Accuracy: 0.8125\n"
     ]
    }
   ],
   "source": [
    "Accuracy = metrics.accuracy_score(y_test, y_pred)\n",
    "\n",
    "print(\"Model Accuracy:\", Accuracy)"
   ]
  },
  {
   "cell_type": "code",
   "execution_count": 22,
   "id": "verified-offer",
   "metadata": {},
   "outputs": [],
   "source": [
    "pdf = pd.read_csv(PredFile)\n",
    "X_validate = pdf[['age', 'weight', 'bmi', 'blood_pressure', 'insulin_test', 'liver_stress_test', 'cardio_stress_test', 'years_smoking']]\n",
    "y_pred = pd.DataFrame(rfc.predict(X_validate),columns=['ZetaDisease'])\n",
    "\n",
    "Pred_Output = X_validate\n",
    "Pred_Output['ZetaDiseaseIndicator'] = y_pred['ZetaDisease']\n",
    "# Output final predicted data to .csv file\n",
    "Pred_Output.to_csv('RandomForest_Output.csv',index=False)\n"
   ]
  },
  {
   "cell_type": "markdown",
   "id": "sporting-adolescent",
   "metadata": {},
   "source": [
    "1. Both Logistic Regrssion and Random Forest have similar model accuracy. \n",
    "2. Normalizing data is not yeilding any better results"
   ]
  },
  {
   "cell_type": "code",
   "execution_count": null,
   "id": "sustained-traveler",
   "metadata": {},
   "outputs": [],
   "source": []
  },
  {
   "cell_type": "code",
   "execution_count": null,
   "id": "responsible-works",
   "metadata": {},
   "outputs": [],
   "source": []
  }
 ],
 "metadata": {
  "kernelspec": {
   "display_name": "Python 3",
   "language": "python",
   "name": "python3"
  },
  "language_info": {
   "codemirror_mode": {
    "name": "ipython",
    "version": 3
   },
   "file_extension": ".py",
   "mimetype": "text/x-python",
   "name": "python",
   "nbconvert_exporter": "python",
   "pygments_lexer": "ipython3",
   "version": "3.6.12"
  }
 },
 "nbformat": 4,
 "nbformat_minor": 5
}
